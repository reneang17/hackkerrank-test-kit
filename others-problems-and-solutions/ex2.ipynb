{
 "cells": [
  {
   "cell_type": "code",
   "execution_count": 5,
   "metadata": {},
   "outputs": [],
   "source": [
    "# necessary import libraries\n",
    "from datetime import datetime\n",
    "import numpy as np\n",
    "from sklearn.linear_model import LinearRegression\n",
    "\n",
    "# utility function\n",
    "def predictMissingHumidity(startDate, endDate, knownTimestamps, humidity, timestamps):\n",
    "    \n",
    "    ref=datetime.utcfromtimestamp(0)\n",
    "    x = [int(abs((ref - datetime.strptime(item,\"%Y-%m-%d %H:%M\")).total_seconds())) for item in knownTimestamps]\n",
    "    y = humidity\n",
    "\n",
    "    lm = LinearRegression()\n",
    "    lm.fit(np.array(x).reshape(-1,1),y)\n",
    "\n",
    "    z = [int(abs((ref - datetime.strptime(item,\"%Y-%m-%d %H:%M\")).total_seconds())) for item in timestamps]\n",
    "    return lm.predict(np.array(z).reshape(-1,1))\n",
    "\n"
   ]
  },
  {
   "cell_type": "code",
   "execution_count": 6,
   "metadata": {},
   "outputs": [
    {
     "name": "stdout",
     "output_type": "stream",
     "text": [
      "[18.42666667 19.8152381 ]\n"
     ]
    }
   ],
   "source": [
    "# dummy inputs\n",
    "startDate = '2013-01-01'\n",
    "endDate = '2013-01-01'\n",
    "knownTimestamps = ['2013-01-01 07:00', '2013-01-01 08:00', '2013-01-01 09:00', '2013-01-01 10:00',\n",
    "                      '2013-01-01 11:00', '2013-01-01 12:00']\n",
    "humidity = [10.0, 11.1, 13.2, 14.8, 15.6, 16.7]\n",
    "timestamps= ['2013-01-01 13:00', '2013-01-01 14:00']\n",
    "\n",
    "# call the utility function\n",
    "answer = predictMissingHumidity(startDate, endDate, knownTimestamps, humidity, timestamps)\n",
    "print(answer)"
   ]
  },
  {
   "cell_type": "code",
   "execution_count": null,
   "metadata": {},
   "outputs": [],
   "source": []
  },
  {
   "cell_type": "code",
   "execution_count": null,
   "metadata": {},
   "outputs": [],
   "source": []
  }
 ],
 "metadata": {
  "kernelspec": {
   "display_name": "Python 3",
   "language": "python",
   "name": "python3"
  },
  "language_info": {
   "codemirror_mode": {
    "name": "ipython",
    "version": 3
   },
   "file_extension": ".py",
   "mimetype": "text/x-python",
   "name": "python",
   "nbconvert_exporter": "python",
   "pygments_lexer": "ipython3",
   "version": "3.7.1"
  }
 },
 "nbformat": 4,
 "nbformat_minor": 2
}
