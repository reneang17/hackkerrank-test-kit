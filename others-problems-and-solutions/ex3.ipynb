{
 "cells": [
  {
   "cell_type": "code",
   "execution_count": 37,
   "metadata": {},
   "outputs": [],
   "source": [
    "# necessary import libraries\n",
    "import numpy as np\n",
    "from datetime import datetime\n",
    "from sklearn.linear_model import LinearRegression\n",
    "\n",
    "# dummy inputs (one day)\n",
    "data=[10.0,11.1,12.3,13.2,14.8,15.6,16.7,17.5,18.9,19.7,20.7,21.1,22.6,23.5,24.9,25.1,26.3,27.8,28.8,29.6,30.2,31.6,32.1,33.7]\n",
    "startDate = '2013-01-01'\n",
    "endDate = '2013-01-01'\n",
    "p = 1\n",
    "n = 1\n",
    "\n",
    "\n",
    "def predictTemperatureR(startDate, endDate, temperature, n):\n",
    "\n",
    "    y=temperature\n",
    "    xb= [i%24 for i in range(len(temperature)) ]\n",
    "    xa= [i%24 for i in range(n*24-1) ]\n",
    "    \n",
    "    lm = LinearRegression()\n",
    "    lm.fit(np.array(xb).reshape(-1,1),y)\n",
    "    \n",
    "    return(lm.predict(np.array(xa).reshape(-1,1)).tolist())\n",
    "        \n",
    "    "
   ]
  },
  {
   "cell_type": "code",
   "execution_count": 38,
   "metadata": {},
   "outputs": [
    {
     "data": {
      "text/plain": [
       "[10.411666666666662,\n",
       " 11.418623188405792,\n",
       " 12.425579710144923,\n",
       " 13.432536231884054,\n",
       " 14.439492753623185,\n",
       " 15.446449275362315,\n",
       " 16.453405797101446,\n",
       " 17.460362318840573,\n",
       " 18.467318840579708,\n",
       " 19.474275362318835,\n",
       " 20.48123188405797,\n",
       " 21.488188405797096,\n",
       " 22.495144927536227,\n",
       " 23.502101449275358,\n",
       " 24.50905797101449,\n",
       " 25.51601449275362,\n",
       " 26.52297101449275,\n",
       " 27.52992753623188,\n",
       " 28.53688405797101,\n",
       " 29.543840579710142,\n",
       " 30.550797101449273,\n",
       " 31.557753623188404,\n",
       " 32.56471014492753]"
      ]
     },
     "execution_count": 38,
     "metadata": {},
     "output_type": "execute_result"
    }
   ],
   "source": [
    "predictTemperatureR(startDate, endDate, data, n)"
   ]
  },
  {
   "cell_type": "code",
   "execution_count": 36,
   "metadata": {},
   "outputs": [
    {
     "name": "stdout",
     "output_type": "stream",
     "text": [
      "[13.984275362318838, 14.746884057971013, 15.509492753623185, 16.27210144927536, 17.034710144927534, 17.797318840579706, 18.559927536231882, 19.322536231884055, 20.08514492753623, 20.847753623188403, 21.61036231884058, 22.37297101449275, 23.135579710144924, 23.8981884057971, 24.660797101449273, 25.423405797101445, 26.18601449275362, 26.948623188405797, 27.711231884057966, 28.473840579710142, 29.236449275362318, 29.99905797101449, 30.761666666666663, 31.52427536231884]\n"
     ]
    }
   ],
   "source": [
    "# utility function\n",
    "def predictTemperature(startDate, endDate, temperature, n):\n",
    "    p = int(len(temperature)/24)\n",
    "    x = []\n",
    "    for i in range(1,((24*p)+1)):\n",
    "        x.append(i%24)\n",
    "    y = temperature\n",
    "    lm = LinearRegression()\n",
    "    lm.fit(np.asarray(x).reshape(-1,1),y)\n",
    "    \n",
    "    f = x[-1]+1\n",
    "    z = []\n",
    "    for i in range(24*n):\n",
    "        z.append(f)\n",
    "        f += 1\n",
    "    return(lm.predict(np.array(z).reshape(-1,1)).tolist())\n",
    "\n",
    "# call the utility function\n",
    "print(predictTemperature(startDate, endDate, data, n))"
   ]
  },
  {
   "cell_type": "code",
   "execution_count": null,
   "metadata": {},
   "outputs": [],
   "source": []
  },
  {
   "cell_type": "code",
   "execution_count": null,
   "metadata": {},
   "outputs": [],
   "source": []
  }
 ],
 "metadata": {
  "kernelspec": {
   "display_name": "Python 3",
   "language": "python",
   "name": "python3"
  },
  "language_info": {
   "codemirror_mode": {
    "name": "ipython",
    "version": 3
   },
   "file_extension": ".py",
   "mimetype": "text/x-python",
   "name": "python",
   "nbconvert_exporter": "python",
   "pygments_lexer": "ipython3",
   "version": "3.7.1"
  }
 },
 "nbformat": 4,
 "nbformat_minor": 2
}
